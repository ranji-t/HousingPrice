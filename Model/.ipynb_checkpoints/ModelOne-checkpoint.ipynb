{
 "cells": [
  {
   "cell_type": "code",
   "execution_count": 1,
   "id": "2f47b587-2164-46f9-be6b-34d5105fb50e",
   "metadata": {},
   "outputs": [
    {
     "name": "stdout",
     "output_type": "stream",
     "text": [
      "Wall time: 2.45 s\n"
     ]
    }
   ],
   "source": [
    "%%time\n",
    "import numpy as np\n",
    "import pandas as pd\n",
    "import matplotlib.pyplot as plt\n",
    "import seaborn as sns\n",
    "# Order 66\n",
    "%config Completer.use_jedi=False\n",
    "# Ease\n",
    "import sys\n",
    "import warnings\n",
    "warnings.filterwarnings(\"ignore\")\n",
    "pd.set_option(\"display.max_columns\", 70)\n",
    "sys.path.append(\"K:\\\\Projects\\\\vscProject\\\\Kaggle\\\\HousePrices\")"
   ]
  },
  {
   "cell_type": "code",
   "execution_count": 2,
   "id": "534044bf-f710-46b5-ada8-afcc9316ccd5",
   "metadata": {},
   "outputs": [
    {
     "name": "stdout",
     "output_type": "stream",
     "text": [
      "Tokenization took: 0.00 ms\n",
      "Type conversion took: 9.69 ms\n",
      "Parser memory cleanup took: 0.00 ms\n",
      "Tokenization took: 10.21 ms\n",
      "Type conversion took: 10.04 ms\n",
      "Parser memory cleanup took: 0.00 ms\n",
      "Tokenization took: 9.82 ms\n",
      "Type conversion took: 9.99 ms\n",
      "Parser memory cleanup took: 0.00 ms\n",
      "Wall time: 3.02 s\n"
     ]
    }
   ],
   "source": [
    "%%time\n",
    "# Coustom Data Module\n",
    "from Script.data import data\n",
    "\n",
    "X_train, y_train, X_test, y_samp = data()"
   ]
  },
  {
   "cell_type": "markdown",
   "id": "677ac11c-55bd-4ade-b2c3-a30325aa26d6",
   "metadata": {},
   "source": [
    "# sk-learn Imports"
   ]
  },
  {
   "cell_type": "code",
   "execution_count": 3,
   "id": "6d6718f9-f0cb-4d26-8aab-7d759573a025",
   "metadata": {},
   "outputs": [],
   "source": [
    "from sklearn.model_selection import GridSearchCV, RandomizedSearchCV, RepeatedKFold\n",
    "from sklearn.tree import DecisionTreeRegressor, ExtraTreeRegressor, plot_tree"
   ]
  },
  {
   "cell_type": "code",
   "execution_count": 4,
   "id": "d1e30b36-ca3f-49fd-8059-ff4656c9df24",
   "metadata": {},
   "outputs": [],
   "source": [
    "cv = RepeatedKFold(random_state=3007)"
   ]
  },
  {
   "cell_type": "markdown",
   "id": "046d7066-e67b-433a-82b9-ecd44a50d80b",
   "metadata": {},
   "source": [
    "# Decision Tree"
   ]
  },
  {
   "cell_type": "code",
   "execution_count": 5,
   "id": "a272a6b1-c189-4d89-919a-8a0c2bf810e9",
   "metadata": {},
   "outputs": [
    {
     "name": "stdout",
     "output_type": "stream",
     "text": [
      "Tree Depth  = 26\n",
      "Tree LEaves = 1374\n",
      "Wall time: 769 ms\n"
     ]
    }
   ],
   "source": [
    "%%time\n",
    "full_dt = DecisionTreeRegressor(criterion=\"mae\")\n",
    "full_dt.fit(X_train, y_train)\n",
    "\n",
    "print(f\"Tree Depth  = {full_dt.get_depth()}\")\n",
    "print(f\"Tree LEaves = {full_dt.get_n_leaves()}\")"
   ]
  },
  {
   "cell_type": "code",
   "execution_count": 6,
   "id": "522b2d6f-2f07-4265-b5dd-9da2cf104c2b",
   "metadata": {},
   "outputs": [
    {
     "data": {
      "text/plain": [
       "Total_SF        43.15\n",
       "OverallQual     10.28\n",
       "Neighborhood    10.00\n",
       "GrLivArea        4.54\n",
       "BsmtFinSF1       2.23\n",
       "Remodel_Age      2.23\n",
       "GarageArea       1.85\n",
       "LotFrontage      1.82\n",
       "LotArea          1.77\n",
       "MoSold           1.24\n",
       "dtype: float64"
      ]
     },
     "execution_count": 6,
     "metadata": {},
     "output_type": "execute_result"
    }
   ],
   "source": [
    "full_dt_feature_imp = pd.Series(full_dt.feature_importances_, index=X_train.columns).sort_values(ascending=False).round(4) * 100; full_dt_feature_imp.head(10)"
   ]
  },
  {
   "cell_type": "code",
   "execution_count": 7,
   "id": "b40e196e-f870-43e7-8203-196a28b7d6f9",
   "metadata": {},
   "outputs": [],
   "source": [
    "ccpp = pd.DataFrame(full_dt.cost_complexity_pruning_path(X_train, y_train))"
   ]
  },
  {
   "cell_type": "code",
   "execution_count": 8,
   "id": "cd7d35eb-6d19-4354-86be-a4dc63680b68",
   "metadata": {},
   "outputs": [
    {
     "data": {
      "text/html": [
       "<div>\n",
       "<style scoped>\n",
       "    .dataframe tbody tr th:only-of-type {\n",
       "        vertical-align: middle;\n",
       "    }\n",
       "\n",
       "    .dataframe tbody tr th {\n",
       "        vertical-align: top;\n",
       "    }\n",
       "\n",
       "    .dataframe thead th {\n",
       "        text-align: right;\n",
       "    }\n",
       "</style>\n",
       "<table border=\"1\" class=\"dataframe\">\n",
       "  <thead>\n",
       "    <tr style=\"text-align: right;\">\n",
       "      <th></th>\n",
       "      <th>ccp_alphas</th>\n",
       "      <th>impurities</th>\n",
       "    </tr>\n",
       "  </thead>\n",
       "  <tbody>\n",
       "    <tr>\n",
       "      <th>0</th>\n",
       "      <td>0.000000</td>\n",
       "      <td>0.000000</td>\n",
       "    </tr>\n",
       "    <tr>\n",
       "      <th>1</th>\n",
       "      <td>0.010274</td>\n",
       "      <td>0.010274</td>\n",
       "    </tr>\n",
       "    <tr>\n",
       "      <th>2</th>\n",
       "      <td>0.034247</td>\n",
       "      <td>0.044521</td>\n",
       "    </tr>\n",
       "    <tr>\n",
       "      <th>3</th>\n",
       "      <td>0.034247</td>\n",
       "      <td>0.078767</td>\n",
       "    </tr>\n",
       "    <tr>\n",
       "      <th>4</th>\n",
       "      <td>0.041781</td>\n",
       "      <td>0.120548</td>\n",
       "    </tr>\n",
       "    <tr>\n",
       "      <th>...</th>\n",
       "      <td>...</td>\n",
       "      <td>...</td>\n",
       "    </tr>\n",
       "    <tr>\n",
       "      <th>1267</th>\n",
       "      <td>1942.673973</td>\n",
       "      <td>29345.836301</td>\n",
       "    </tr>\n",
       "    <tr>\n",
       "      <th>1268</th>\n",
       "      <td>2023.165068</td>\n",
       "      <td>31369.001370</td>\n",
       "    </tr>\n",
       "    <tr>\n",
       "      <th>1269</th>\n",
       "      <td>3513.057534</td>\n",
       "      <td>34882.058904</td>\n",
       "    </tr>\n",
       "    <tr>\n",
       "      <th>1270</th>\n",
       "      <td>5238.838356</td>\n",
       "      <td>40120.897260</td>\n",
       "    </tr>\n",
       "    <tr>\n",
       "      <th>1271</th>\n",
       "      <td>15412.758904</td>\n",
       "      <td>55533.656164</td>\n",
       "    </tr>\n",
       "  </tbody>\n",
       "</table>\n",
       "<p>1272 rows × 2 columns</p>\n",
       "</div>"
      ],
      "text/plain": [
       "        ccp_alphas    impurities\n",
       "0         0.000000      0.000000\n",
       "1         0.010274      0.010274\n",
       "2         0.034247      0.044521\n",
       "3         0.034247      0.078767\n",
       "4         0.041781      0.120548\n",
       "...            ...           ...\n",
       "1267   1942.673973  29345.836301\n",
       "1268   2023.165068  31369.001370\n",
       "1269   3513.057534  34882.058904\n",
       "1270   5238.838356  40120.897260\n",
       "1271  15412.758904  55533.656164\n",
       "\n",
       "[1272 rows x 2 columns]"
      ]
     },
     "execution_count": 8,
     "metadata": {},
     "output_type": "execute_result"
    }
   ],
   "source": [
    "ccpp"
   ]
  },
  {
   "cell_type": "code",
   "execution_count": null,
   "id": "d2b58421-ace9-4ec0-b178-8ce9f7974060",
   "metadata": {},
   "outputs": [
    {
     "name": "stdout",
     "output_type": "stream",
     "text": [
      "Fitting 50 folds for each of 100 candidates, totalling 5000 fits\n"
     ]
    }
   ],
   "source": [
    "%%time\n",
    "param_distributions = {\n",
    "    \"criterion\": ['mae'],\n",
    "    \"ccp_alpha\": ccpp.ccp_alphas.values\n",
    "}\n",
    "\n",
    "dt_rscv = RandomizedSearchCV(\n",
    "    DecisionTreeRegressor(),\n",
    "    param_distributions,\n",
    "    n_iter       = 100,\n",
    "    scoring      = \"neg_mean_absolute_error\",\n",
    "    n_jobs       = -2,\n",
    "    cv           = cv,\n",
    "    verbose      = 1,\n",
    "    random_state = 7013,\n",
    ")\n",
    "dt_rscv.fit(X_train, y_train)"
   ]
  },
  {
   "cell_type": "code",
   "execution_count": null,
   "id": "798a2804-b3fa-4fda-9ada-49a6cdf1633d",
   "metadata": {},
   "outputs": [],
   "source": [
    "pd.DataFrame(dt_rscv.cv_results_).sort_values(by=\"rank_test_score\").head(5)"
   ]
  },
  {
   "cell_type": "code",
   "execution_count": null,
   "id": "141fcfb7-5c96-461c-867c-501de3fbda27",
   "metadata": {},
   "outputs": [],
   "source": []
  }
 ],
 "metadata": {
  "kernelspec": {
   "display_name": "Python 3",
   "language": "python",
   "name": "python3"
  },
  "language_info": {
   "codemirror_mode": {
    "name": "ipython",
    "version": 3
   },
   "file_extension": ".py",
   "mimetype": "text/x-python",
   "name": "python",
   "nbconvert_exporter": "python",
   "pygments_lexer": "ipython3",
   "version": "3.8.10"
  }
 },
 "nbformat": 4,
 "nbformat_minor": 5
}
