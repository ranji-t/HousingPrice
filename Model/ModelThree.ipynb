{
 "cells": [
  {
   "cell_type": "code",
   "execution_count": 15,
   "id": "90282804",
   "metadata": {},
   "outputs": [
    {
     "name": "stdout",
     "output_type": "stream",
     "text": [
      "Wall time: 30 ms\n"
     ]
    }
   ],
   "source": [
    "%%time\n",
    "import numpy as np\n",
    "import pandas as pd\n",
    "import matplotlib.pyplot as plt\n",
    "import seaborn as sns\n",
    "# Order 66\n",
    "%config Completer.use_jedi = False\n",
    "import warnings\n",
    "from glob import glob\n",
    "import sys\n",
    "warnings.filterwarnings(\"ignore\")\n",
    "sys.path.append(r\"K:\\Projects\\vscProject\\Kaggle\\HousePrices\")"
   ]
  },
  {
   "cell_type": "code",
   "execution_count": null,
   "id": "95f2ec92",
   "metadata": {},
   "outputs": [],
   "source": [
    "%%time\n",
    "\n"
   ]
  },
  {
   "cell_type": "code",
   "execution_count": null,
   "id": "6ba644a8",
   "metadata": {},
   "outputs": [],
   "source": []
  }
 ],
 "metadata": {
  "kernelspec": {
   "display_name": "Python 3",
   "language": "python",
   "name": "python3"
  },
  "language_info": {
   "codemirror_mode": {
    "name": "ipython",
    "version": 3
   },
   "file_extension": ".py",
   "mimetype": "text/x-python",
   "name": "python",
   "nbconvert_exporter": "python",
   "pygments_lexer": "ipython3",
   "version": "3.8.10"
  }
 },
 "nbformat": 4,
 "nbformat_minor": 5
}
