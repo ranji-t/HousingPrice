{
 "cells": [
  {
   "cell_type": "code",
   "execution_count": 2,
   "id": "90282804",
   "metadata": {},
   "outputs": [
    {
     "name": "stdout",
     "output_type": "stream",
     "text": [
      "Wall time: 14 s\n"
     ]
    }
   ],
   "source": [
    "%%time\n",
    "import numpy as np\n",
    "import pandas as pd\n",
    "import matplotlib.pyplot as plt\n",
    "import seaborn as sns\n",
    "# Order 66\n",
    "%config Completer.use_jedi = False\n",
    "import warnings\n",
    "from glob import glob\n",
    "import sys\n",
    "warnings.filterwarnings(\"ignore\")\n",
    "sys.path.append(r\"K:\\Projects\\vscProject\\Kaggle\\HousePrices\")"
   ]
  },
  {
   "cell_type": "code",
   "execution_count": 3,
   "id": "95f2ec92",
   "metadata": {},
   "outputs": [
    {
     "name": "stdout",
     "output_type": "stream",
     "text": [
      "Tokenization took: 1.00 ms\n",
      "Type conversion took: 2.00 ms\n",
      "Parser memory cleanup took: 0.00 ms\n",
      "Tokenization took: 9.99 ms\n",
      "Type conversion took: 24.99 ms\n",
      "Parser memory cleanup took: 0.00 ms\n",
      "Tokenization took: 9.99 ms\n",
      "Type conversion took: 23.99 ms\n",
      "Parser memory cleanup took: 0.00 ms\n",
      "Wall time: 5.87 s\n"
     ]
    }
   ],
   "source": [
    "%%time\n",
    "\n",
    "from Script.data import data\n",
    "\n",
    "X_train, y_train, X_test, y_samp = data()"
   ]
  },
  {
   "cell_type": "code",
   "execution_count": 4,
   "id": "6ba644a8",
   "metadata": {},
   "outputs": [
    {
     "name": "stdout",
     "output_type": "stream",
     "text": [
      "X_train.shape = (1460, 57)\n",
      "X_test.shape  = (1459, 57)\n"
     ]
    }
   ],
   "source": [
    "print(f\"{X_train.shape = }\")\n",
    "print(f\"{X_test.shape  = }\")"
   ]
  },
  {
   "cell_type": "code",
   "execution_count": null,
   "id": "183152cb-ad72-4eb9-91ef-b6170e7be69e",
   "metadata": {},
   "outputs": [],
   "source": []
  },
  {
   "cell_type": "code",
   "execution_count": null,
   "id": "3507d4b1-890f-490a-99cb-0fc1a3107389",
   "metadata": {},
   "outputs": [],
   "source": []
  }
 ],
 "metadata": {
  "kernelspec": {
   "display_name": "Python 3",
   "language": "python",
   "name": "python3"
  },
  "language_info": {
   "codemirror_mode": {
    "name": "ipython",
    "version": 3
   },
   "file_extension": ".py",
   "mimetype": "text/x-python",
   "name": "python",
   "nbconvert_exporter": "python",
   "pygments_lexer": "ipython3",
   "version": "3.8.10"
  }
 },
 "nbformat": 4,
 "nbformat_minor": 5
}
